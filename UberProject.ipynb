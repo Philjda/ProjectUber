{
 "cells": [
  {
   "cell_type": "code",
   "execution_count": 60,
   "metadata": {},
   "outputs": [],
   "source": [
    "import pandas as pd \n",
    "import numpy as np\n",
    "import matplotlib.pyplot as plt\n",
    "\n",
    "import plotly.express as px\n",
    "import plotly.io as pio\n",
    "pio.renderers.default = \"iframe_connected\""
   ]
  },
  {
   "cell_type": "code",
   "execution_count": 1,
   "metadata": {},
   "outputs": [],
   "source": [
    "import numpy as np\n",
    "from matplotlib import pyplot as plt"
   ]
  },
  {
   "cell_type": "code",
   "execution_count": null,
   "metadata": {},
   "outputs": [],
   "source": []
  },
  {
   "cell_type": "code",
   "execution_count": 2,
   "metadata": {},
   "outputs": [],
   "source": [
    "df_june = pd.read_csv(\"uber-raw-data-jun14.csv\") # skiprows = 1 pour supprimer première ligne."
   ]
  },
  {
   "cell_type": "code",
   "execution_count": 3,
   "metadata": {
    "scrolled": false
   },
   "outputs": [
    {
     "data": {
      "text/html": [
       "<div>\n",
       "<style scoped>\n",
       "    .dataframe tbody tr th:only-of-type {\n",
       "        vertical-align: middle;\n",
       "    }\n",
       "\n",
       "    .dataframe tbody tr th {\n",
       "        vertical-align: top;\n",
       "    }\n",
       "\n",
       "    .dataframe thead th {\n",
       "        text-align: right;\n",
       "    }\n",
       "</style>\n",
       "<table border=\"1\" class=\"dataframe\">\n",
       "  <thead>\n",
       "    <tr style=\"text-align: right;\">\n",
       "      <th></th>\n",
       "      <th>Date/Time</th>\n",
       "      <th>Lat</th>\n",
       "      <th>Lon</th>\n",
       "      <th>Base</th>\n",
       "    </tr>\n",
       "  </thead>\n",
       "  <tbody>\n",
       "    <tr>\n",
       "      <th>0</th>\n",
       "      <td>6/1/2014 0:00:00</td>\n",
       "      <td>40.7293</td>\n",
       "      <td>-73.9920</td>\n",
       "      <td>B02512</td>\n",
       "    </tr>\n",
       "    <tr>\n",
       "      <th>1</th>\n",
       "      <td>6/1/2014 0:01:00</td>\n",
       "      <td>40.7131</td>\n",
       "      <td>-74.0097</td>\n",
       "      <td>B02512</td>\n",
       "    </tr>\n",
       "    <tr>\n",
       "      <th>2</th>\n",
       "      <td>6/1/2014 0:04:00</td>\n",
       "      <td>40.3461</td>\n",
       "      <td>-74.6610</td>\n",
       "      <td>B02512</td>\n",
       "    </tr>\n",
       "    <tr>\n",
       "      <th>3</th>\n",
       "      <td>6/1/2014 0:04:00</td>\n",
       "      <td>40.7555</td>\n",
       "      <td>-73.9833</td>\n",
       "      <td>B02512</td>\n",
       "    </tr>\n",
       "    <tr>\n",
       "      <th>4</th>\n",
       "      <td>6/1/2014 0:07:00</td>\n",
       "      <td>40.6880</td>\n",
       "      <td>-74.1831</td>\n",
       "      <td>B02512</td>\n",
       "    </tr>\n",
       "    <tr>\n",
       "      <th>...</th>\n",
       "      <td>...</td>\n",
       "      <td>...</td>\n",
       "      <td>...</td>\n",
       "      <td>...</td>\n",
       "    </tr>\n",
       "    <tr>\n",
       "      <th>663839</th>\n",
       "      <td>6/30/2014 22:40:00</td>\n",
       "      <td>40.7332</td>\n",
       "      <td>-73.9872</td>\n",
       "      <td>B02764</td>\n",
       "    </tr>\n",
       "    <tr>\n",
       "      <th>663840</th>\n",
       "      <td>6/30/2014 23:12:00</td>\n",
       "      <td>40.7905</td>\n",
       "      <td>-73.9796</td>\n",
       "      <td>B02764</td>\n",
       "    </tr>\n",
       "    <tr>\n",
       "      <th>663841</th>\n",
       "      <td>6/30/2014 23:13:00</td>\n",
       "      <td>40.7640</td>\n",
       "      <td>-73.9887</td>\n",
       "      <td>B02764</td>\n",
       "    </tr>\n",
       "    <tr>\n",
       "      <th>663842</th>\n",
       "      <td>6/30/2014 23:15:00</td>\n",
       "      <td>40.7262</td>\n",
       "      <td>-73.9944</td>\n",
       "      <td>B02764</td>\n",
       "    </tr>\n",
       "    <tr>\n",
       "      <th>663843</th>\n",
       "      <td>6/30/2014 23:35:00</td>\n",
       "      <td>40.7404</td>\n",
       "      <td>-73.9848</td>\n",
       "      <td>B02764</td>\n",
       "    </tr>\n",
       "  </tbody>\n",
       "</table>\n",
       "<p>663844 rows × 4 columns</p>\n",
       "</div>"
      ],
      "text/plain": [
       "                 Date/Time      Lat      Lon    Base\n",
       "0         6/1/2014 0:00:00  40.7293 -73.9920  B02512\n",
       "1         6/1/2014 0:01:00  40.7131 -74.0097  B02512\n",
       "2         6/1/2014 0:04:00  40.3461 -74.6610  B02512\n",
       "3         6/1/2014 0:04:00  40.7555 -73.9833  B02512\n",
       "4         6/1/2014 0:07:00  40.6880 -74.1831  B02512\n",
       "...                    ...      ...      ...     ...\n",
       "663839  6/30/2014 22:40:00  40.7332 -73.9872  B02764\n",
       "663840  6/30/2014 23:12:00  40.7905 -73.9796  B02764\n",
       "663841  6/30/2014 23:13:00  40.7640 -73.9887  B02764\n",
       "663842  6/30/2014 23:15:00  40.7262 -73.9944  B02764\n",
       "663843  6/30/2014 23:35:00  40.7404 -73.9848  B02764\n",
       "\n",
       "[663844 rows x 4 columns]"
      ]
     },
     "execution_count": 3,
     "metadata": {},
     "output_type": "execute_result"
    }
   ],
   "source": [
    "df_june"
   ]
  },
  {
   "cell_type": "code",
   "execution_count": 4,
   "metadata": {},
   "outputs": [
    {
     "ename": "FileNotFoundError",
     "evalue": "[Errno 2] No such file or directory: 'Uber/taxi-zone-lookup.csv'",
     "output_type": "error",
     "traceback": [
      "\u001b[1;31m---------------------------------------------------------------------------\u001b[0m",
      "\u001b[1;31mFileNotFoundError\u001b[0m                         Traceback (most recent call last)",
      "\u001b[1;32m<ipython-input-4-96e35006b9d1>\u001b[0m in \u001b[0;36m<module>\u001b[1;34m\u001b[0m\n\u001b[1;32m----> 1\u001b[1;33m \u001b[0mdf_taxi\u001b[0m \u001b[1;33m=\u001b[0m \u001b[0mpd\u001b[0m\u001b[1;33m.\u001b[0m\u001b[0mread_csv\u001b[0m\u001b[1;33m(\u001b[0m\u001b[1;34m\"Uber/taxi-zone-lookup.csv\"\u001b[0m\u001b[1;33m)\u001b[0m\u001b[1;33m\u001b[0m\u001b[1;33m\u001b[0m\u001b[0m\n\u001b[0m",
      "\u001b[1;32m~\\anaconda3\\lib\\site-packages\\pandas\\io\\parsers.py\u001b[0m in \u001b[0;36mread_csv\u001b[1;34m(filepath_or_buffer, sep, delimiter, header, names, index_col, usecols, squeeze, prefix, mangle_dupe_cols, dtype, engine, converters, true_values, false_values, skipinitialspace, skiprows, skipfooter, nrows, na_values, keep_default_na, na_filter, verbose, skip_blank_lines, parse_dates, infer_datetime_format, keep_date_col, date_parser, dayfirst, cache_dates, iterator, chunksize, compression, thousands, decimal, lineterminator, quotechar, quoting, doublequote, escapechar, comment, encoding, dialect, error_bad_lines, warn_bad_lines, delim_whitespace, low_memory, memory_map, float_precision, storage_options)\u001b[0m\n\u001b[0;32m    608\u001b[0m     \u001b[0mkwds\u001b[0m\u001b[1;33m.\u001b[0m\u001b[0mupdate\u001b[0m\u001b[1;33m(\u001b[0m\u001b[0mkwds_defaults\u001b[0m\u001b[1;33m)\u001b[0m\u001b[1;33m\u001b[0m\u001b[1;33m\u001b[0m\u001b[0m\n\u001b[0;32m    609\u001b[0m \u001b[1;33m\u001b[0m\u001b[0m\n\u001b[1;32m--> 610\u001b[1;33m     \u001b[1;32mreturn\u001b[0m \u001b[0m_read\u001b[0m\u001b[1;33m(\u001b[0m\u001b[0mfilepath_or_buffer\u001b[0m\u001b[1;33m,\u001b[0m \u001b[0mkwds\u001b[0m\u001b[1;33m)\u001b[0m\u001b[1;33m\u001b[0m\u001b[1;33m\u001b[0m\u001b[0m\n\u001b[0m\u001b[0;32m    611\u001b[0m \u001b[1;33m\u001b[0m\u001b[0m\n\u001b[0;32m    612\u001b[0m \u001b[1;33m\u001b[0m\u001b[0m\n",
      "\u001b[1;32m~\\anaconda3\\lib\\site-packages\\pandas\\io\\parsers.py\u001b[0m in \u001b[0;36m_read\u001b[1;34m(filepath_or_buffer, kwds)\u001b[0m\n\u001b[0;32m    460\u001b[0m \u001b[1;33m\u001b[0m\u001b[0m\n\u001b[0;32m    461\u001b[0m     \u001b[1;31m# Create the parser.\u001b[0m\u001b[1;33m\u001b[0m\u001b[1;33m\u001b[0m\u001b[1;33m\u001b[0m\u001b[0m\n\u001b[1;32m--> 462\u001b[1;33m     \u001b[0mparser\u001b[0m \u001b[1;33m=\u001b[0m \u001b[0mTextFileReader\u001b[0m\u001b[1;33m(\u001b[0m\u001b[0mfilepath_or_buffer\u001b[0m\u001b[1;33m,\u001b[0m \u001b[1;33m**\u001b[0m\u001b[0mkwds\u001b[0m\u001b[1;33m)\u001b[0m\u001b[1;33m\u001b[0m\u001b[1;33m\u001b[0m\u001b[0m\n\u001b[0m\u001b[0;32m    463\u001b[0m \u001b[1;33m\u001b[0m\u001b[0m\n\u001b[0;32m    464\u001b[0m     \u001b[1;32mif\u001b[0m \u001b[0mchunksize\u001b[0m \u001b[1;32mor\u001b[0m \u001b[0miterator\u001b[0m\u001b[1;33m:\u001b[0m\u001b[1;33m\u001b[0m\u001b[1;33m\u001b[0m\u001b[0m\n",
      "\u001b[1;32m~\\anaconda3\\lib\\site-packages\\pandas\\io\\parsers.py\u001b[0m in \u001b[0;36m__init__\u001b[1;34m(self, f, engine, **kwds)\u001b[0m\n\u001b[0;32m    817\u001b[0m             \u001b[0mself\u001b[0m\u001b[1;33m.\u001b[0m\u001b[0moptions\u001b[0m\u001b[1;33m[\u001b[0m\u001b[1;34m\"has_index_names\"\u001b[0m\u001b[1;33m]\u001b[0m \u001b[1;33m=\u001b[0m \u001b[0mkwds\u001b[0m\u001b[1;33m[\u001b[0m\u001b[1;34m\"has_index_names\"\u001b[0m\u001b[1;33m]\u001b[0m\u001b[1;33m\u001b[0m\u001b[1;33m\u001b[0m\u001b[0m\n\u001b[0;32m    818\u001b[0m \u001b[1;33m\u001b[0m\u001b[0m\n\u001b[1;32m--> 819\u001b[1;33m         \u001b[0mself\u001b[0m\u001b[1;33m.\u001b[0m\u001b[0m_engine\u001b[0m \u001b[1;33m=\u001b[0m \u001b[0mself\u001b[0m\u001b[1;33m.\u001b[0m\u001b[0m_make_engine\u001b[0m\u001b[1;33m(\u001b[0m\u001b[0mself\u001b[0m\u001b[1;33m.\u001b[0m\u001b[0mengine\u001b[0m\u001b[1;33m)\u001b[0m\u001b[1;33m\u001b[0m\u001b[1;33m\u001b[0m\u001b[0m\n\u001b[0m\u001b[0;32m    820\u001b[0m \u001b[1;33m\u001b[0m\u001b[0m\n\u001b[0;32m    821\u001b[0m     \u001b[1;32mdef\u001b[0m \u001b[0mclose\u001b[0m\u001b[1;33m(\u001b[0m\u001b[0mself\u001b[0m\u001b[1;33m)\u001b[0m\u001b[1;33m:\u001b[0m\u001b[1;33m\u001b[0m\u001b[1;33m\u001b[0m\u001b[0m\n",
      "\u001b[1;32m~\\anaconda3\\lib\\site-packages\\pandas\\io\\parsers.py\u001b[0m in \u001b[0;36m_make_engine\u001b[1;34m(self, engine)\u001b[0m\n\u001b[0;32m   1048\u001b[0m             )\n\u001b[0;32m   1049\u001b[0m         \u001b[1;31m# error: Too many arguments for \"ParserBase\"\u001b[0m\u001b[1;33m\u001b[0m\u001b[1;33m\u001b[0m\u001b[1;33m\u001b[0m\u001b[0m\n\u001b[1;32m-> 1050\u001b[1;33m         \u001b[1;32mreturn\u001b[0m \u001b[0mmapping\u001b[0m\u001b[1;33m[\u001b[0m\u001b[0mengine\u001b[0m\u001b[1;33m]\u001b[0m\u001b[1;33m(\u001b[0m\u001b[0mself\u001b[0m\u001b[1;33m.\u001b[0m\u001b[0mf\u001b[0m\u001b[1;33m,\u001b[0m \u001b[1;33m**\u001b[0m\u001b[0mself\u001b[0m\u001b[1;33m.\u001b[0m\u001b[0moptions\u001b[0m\u001b[1;33m)\u001b[0m  \u001b[1;31m# type: ignore[call-arg]\u001b[0m\u001b[1;33m\u001b[0m\u001b[1;33m\u001b[0m\u001b[0m\n\u001b[0m\u001b[0;32m   1051\u001b[0m \u001b[1;33m\u001b[0m\u001b[0m\n\u001b[0;32m   1052\u001b[0m     \u001b[1;32mdef\u001b[0m \u001b[0m_failover_to_python\u001b[0m\u001b[1;33m(\u001b[0m\u001b[0mself\u001b[0m\u001b[1;33m)\u001b[0m\u001b[1;33m:\u001b[0m\u001b[1;33m\u001b[0m\u001b[1;33m\u001b[0m\u001b[0m\n",
      "\u001b[1;32m~\\anaconda3\\lib\\site-packages\\pandas\\io\\parsers.py\u001b[0m in \u001b[0;36m__init__\u001b[1;34m(self, src, **kwds)\u001b[0m\n\u001b[0;32m   1865\u001b[0m \u001b[1;33m\u001b[0m\u001b[0m\n\u001b[0;32m   1866\u001b[0m         \u001b[1;31m# open handles\u001b[0m\u001b[1;33m\u001b[0m\u001b[1;33m\u001b[0m\u001b[1;33m\u001b[0m\u001b[0m\n\u001b[1;32m-> 1867\u001b[1;33m         \u001b[0mself\u001b[0m\u001b[1;33m.\u001b[0m\u001b[0m_open_handles\u001b[0m\u001b[1;33m(\u001b[0m\u001b[0msrc\u001b[0m\u001b[1;33m,\u001b[0m \u001b[0mkwds\u001b[0m\u001b[1;33m)\u001b[0m\u001b[1;33m\u001b[0m\u001b[1;33m\u001b[0m\u001b[0m\n\u001b[0m\u001b[0;32m   1868\u001b[0m         \u001b[1;32massert\u001b[0m \u001b[0mself\u001b[0m\u001b[1;33m.\u001b[0m\u001b[0mhandles\u001b[0m \u001b[1;32mis\u001b[0m \u001b[1;32mnot\u001b[0m \u001b[1;32mNone\u001b[0m\u001b[1;33m\u001b[0m\u001b[1;33m\u001b[0m\u001b[0m\n\u001b[0;32m   1869\u001b[0m         \u001b[1;32mfor\u001b[0m \u001b[0mkey\u001b[0m \u001b[1;32min\u001b[0m \u001b[1;33m(\u001b[0m\u001b[1;34m\"storage_options\"\u001b[0m\u001b[1;33m,\u001b[0m \u001b[1;34m\"encoding\"\u001b[0m\u001b[1;33m,\u001b[0m \u001b[1;34m\"memory_map\"\u001b[0m\u001b[1;33m,\u001b[0m \u001b[1;34m\"compression\"\u001b[0m\u001b[1;33m)\u001b[0m\u001b[1;33m:\u001b[0m\u001b[1;33m\u001b[0m\u001b[1;33m\u001b[0m\u001b[0m\n",
      "\u001b[1;32m~\\anaconda3\\lib\\site-packages\\pandas\\io\\parsers.py\u001b[0m in \u001b[0;36m_open_handles\u001b[1;34m(self, src, kwds)\u001b[0m\n\u001b[0;32m   1360\u001b[0m         \u001b[0mLet\u001b[0m \u001b[0mthe\u001b[0m \u001b[0mreaders\u001b[0m \u001b[0mopen\u001b[0m \u001b[0mIOHanldes\u001b[0m \u001b[0mafter\u001b[0m \u001b[0mthey\u001b[0m \u001b[0mare\u001b[0m \u001b[0mdone\u001b[0m \u001b[1;32mwith\u001b[0m \u001b[0mtheir\u001b[0m \u001b[0mpotential\u001b[0m \u001b[0mraises\u001b[0m\u001b[1;33m.\u001b[0m\u001b[1;33m\u001b[0m\u001b[1;33m\u001b[0m\u001b[0m\n\u001b[0;32m   1361\u001b[0m         \"\"\"\n\u001b[1;32m-> 1362\u001b[1;33m         self.handles = get_handle(\n\u001b[0m\u001b[0;32m   1363\u001b[0m             \u001b[0msrc\u001b[0m\u001b[1;33m,\u001b[0m\u001b[1;33m\u001b[0m\u001b[1;33m\u001b[0m\u001b[0m\n\u001b[0;32m   1364\u001b[0m             \u001b[1;34m\"r\"\u001b[0m\u001b[1;33m,\u001b[0m\u001b[1;33m\u001b[0m\u001b[1;33m\u001b[0m\u001b[0m\n",
      "\u001b[1;32m~\\anaconda3\\lib\\site-packages\\pandas\\io\\common.py\u001b[0m in \u001b[0;36mget_handle\u001b[1;34m(path_or_buf, mode, encoding, compression, memory_map, is_text, errors, storage_options)\u001b[0m\n\u001b[0;32m    640\u001b[0m                 \u001b[0merrors\u001b[0m \u001b[1;33m=\u001b[0m \u001b[1;34m\"replace\"\u001b[0m\u001b[1;33m\u001b[0m\u001b[1;33m\u001b[0m\u001b[0m\n\u001b[0;32m    641\u001b[0m             \u001b[1;31m# Encoding\u001b[0m\u001b[1;33m\u001b[0m\u001b[1;33m\u001b[0m\u001b[1;33m\u001b[0m\u001b[0m\n\u001b[1;32m--> 642\u001b[1;33m             handle = open(\n\u001b[0m\u001b[0;32m    643\u001b[0m                 \u001b[0mhandle\u001b[0m\u001b[1;33m,\u001b[0m\u001b[1;33m\u001b[0m\u001b[1;33m\u001b[0m\u001b[0m\n\u001b[0;32m    644\u001b[0m                 \u001b[0mioargs\u001b[0m\u001b[1;33m.\u001b[0m\u001b[0mmode\u001b[0m\u001b[1;33m,\u001b[0m\u001b[1;33m\u001b[0m\u001b[1;33m\u001b[0m\u001b[0m\n",
      "\u001b[1;31mFileNotFoundError\u001b[0m: [Errno 2] No such file or directory: 'Uber/taxi-zone-lookup.csv'"
     ]
    }
   ],
   "source": [
    "df_taxi = pd.read_csv(\"taxi-zone-lookup.csv\")"
   ]
  },
  {
   "cell_type": "code",
   "execution_count": 5,
   "metadata": {},
   "outputs": [
    {
     "ename": "NameError",
     "evalue": "name 'df_taxi' is not defined",
     "output_type": "error",
     "traceback": [
      "\u001b[1;31m---------------------------------------------------------------------------\u001b[0m",
      "\u001b[1;31mNameError\u001b[0m                                 Traceback (most recent call last)",
      "\u001b[1;32m<ipython-input-5-386aecd90edc>\u001b[0m in \u001b[0;36m<module>\u001b[1;34m\u001b[0m\n\u001b[1;32m----> 1\u001b[1;33m \u001b[0mdf_taxi\u001b[0m\u001b[1;33m\u001b[0m\u001b[1;33m\u001b[0m\u001b[0m\n\u001b[0m",
      "\u001b[1;31mNameError\u001b[0m: name 'df_taxi' is not defined"
     ]
    }
   ],
   "source": [
    "df_taxi"
   ]
  },
  {
   "cell_type": "code",
   "execution_count": 6,
   "metadata": {},
   "outputs": [],
   "source": [
    "N_LINES_SELECTED = 10000\n",
    "df_june_sample = df_june.sample(n = N_LINES_SELECTED,)"
   ]
  },
  {
   "cell_type": "code",
   "execution_count": 7,
   "metadata": {
    "scrolled": true
   },
   "outputs": [
    {
     "data": {
      "text/html": [
       "<div>\n",
       "<style scoped>\n",
       "    .dataframe tbody tr th:only-of-type {\n",
       "        vertical-align: middle;\n",
       "    }\n",
       "\n",
       "    .dataframe tbody tr th {\n",
       "        vertical-align: top;\n",
       "    }\n",
       "\n",
       "    .dataframe thead th {\n",
       "        text-align: right;\n",
       "    }\n",
       "</style>\n",
       "<table border=\"1\" class=\"dataframe\">\n",
       "  <thead>\n",
       "    <tr style=\"text-align: right;\">\n",
       "      <th></th>\n",
       "      <th>Date/Time</th>\n",
       "      <th>Lat</th>\n",
       "      <th>Lon</th>\n",
       "      <th>Base</th>\n",
       "    </tr>\n",
       "  </thead>\n",
       "  <tbody>\n",
       "    <tr>\n",
       "      <th>98244</th>\n",
       "      <td>6/9/2014 5:37:00</td>\n",
       "      <td>40.7809</td>\n",
       "      <td>-73.9829</td>\n",
       "      <td>B02598</td>\n",
       "    </tr>\n",
       "    <tr>\n",
       "      <th>212052</th>\n",
       "      <td>6/22/2014 15:54:00</td>\n",
       "      <td>40.7269</td>\n",
       "      <td>-73.9859</td>\n",
       "      <td>B02598</td>\n",
       "    </tr>\n",
       "    <tr>\n",
       "      <th>657796</th>\n",
       "      <td>6/11/2014 5:45:00</td>\n",
       "      <td>40.7382</td>\n",
       "      <td>-74.0084</td>\n",
       "      <td>B02764</td>\n",
       "    </tr>\n",
       "    <tr>\n",
       "      <th>405461</th>\n",
       "      <td>6/23/2014 8:07:00</td>\n",
       "      <td>40.6339</td>\n",
       "      <td>-73.9671</td>\n",
       "      <td>B02617</td>\n",
       "    </tr>\n",
       "    <tr>\n",
       "      <th>589352</th>\n",
       "      <td>6/20/2014 5:18:00</td>\n",
       "      <td>40.7193</td>\n",
       "      <td>-73.9601</td>\n",
       "      <td>B02682</td>\n",
       "    </tr>\n",
       "    <tr>\n",
       "      <th>...</th>\n",
       "      <td>...</td>\n",
       "      <td>...</td>\n",
       "      <td>...</td>\n",
       "      <td>...</td>\n",
       "    </tr>\n",
       "    <tr>\n",
       "      <th>500087</th>\n",
       "      <td>6/6/2014 22:29:00</td>\n",
       "      <td>40.7172</td>\n",
       "      <td>-73.9552</td>\n",
       "      <td>B02682</td>\n",
       "    </tr>\n",
       "    <tr>\n",
       "      <th>551144</th>\n",
       "      <td>6/13/2014 20:55:00</td>\n",
       "      <td>40.7682</td>\n",
       "      <td>-73.8624</td>\n",
       "      <td>B02682</td>\n",
       "    </tr>\n",
       "    <tr>\n",
       "      <th>151377</th>\n",
       "      <td>6/14/2014 18:31:00</td>\n",
       "      <td>40.6209</td>\n",
       "      <td>-74.0222</td>\n",
       "      <td>B02598</td>\n",
       "    </tr>\n",
       "    <tr>\n",
       "      <th>20615</th>\n",
       "      <td>6/19/2014 4:01:00</td>\n",
       "      <td>40.7199</td>\n",
       "      <td>-73.9951</td>\n",
       "      <td>B02512</td>\n",
       "    </tr>\n",
       "    <tr>\n",
       "      <th>657997</th>\n",
       "      <td>6/11/2014 17:33:00</td>\n",
       "      <td>40.7165</td>\n",
       "      <td>-74.0164</td>\n",
       "      <td>B02764</td>\n",
       "    </tr>\n",
       "  </tbody>\n",
       "</table>\n",
       "<p>10000 rows × 4 columns</p>\n",
       "</div>"
      ],
      "text/plain": [
       "                 Date/Time      Lat      Lon    Base\n",
       "98244     6/9/2014 5:37:00  40.7809 -73.9829  B02598\n",
       "212052  6/22/2014 15:54:00  40.7269 -73.9859  B02598\n",
       "657796   6/11/2014 5:45:00  40.7382 -74.0084  B02764\n",
       "405461   6/23/2014 8:07:00  40.6339 -73.9671  B02617\n",
       "589352   6/20/2014 5:18:00  40.7193 -73.9601  B02682\n",
       "...                    ...      ...      ...     ...\n",
       "500087   6/6/2014 22:29:00  40.7172 -73.9552  B02682\n",
       "551144  6/13/2014 20:55:00  40.7682 -73.8624  B02682\n",
       "151377  6/14/2014 18:31:00  40.6209 -74.0222  B02598\n",
       "20615    6/19/2014 4:01:00  40.7199 -73.9951  B02512\n",
       "657997  6/11/2014 17:33:00  40.7165 -74.0164  B02764\n",
       "\n",
       "[10000 rows x 4 columns]"
      ]
     },
     "execution_count": 7,
     "metadata": {},
     "output_type": "execute_result"
    }
   ],
   "source": [
    "df_june_sample"
   ]
  },
  {
   "cell_type": "code",
   "execution_count": 8,
   "metadata": {},
   "outputs": [],
   "source": [
    "temp = df_june_sample.iloc[0]['Date/Time']"
   ]
  },
  {
   "cell_type": "code",
   "execution_count": 9,
   "metadata": {},
   "outputs": [
    {
     "data": {
      "text/plain": [
       "'6/9/2014 5:37:00'"
      ]
     },
     "execution_count": 9,
     "metadata": {},
     "output_type": "execute_result"
    }
   ],
   "source": [
    "temp"
   ]
  },
  {
   "cell_type": "code",
   "execution_count": 10,
   "metadata": {},
   "outputs": [
    {
     "data": {
      "text/plain": [
       "str"
      ]
     },
     "execution_count": 10,
     "metadata": {},
     "output_type": "execute_result"
    }
   ],
   "source": [
    "type(temp)"
   ]
  },
  {
   "cell_type": "code",
   "execution_count": 11,
   "metadata": {},
   "outputs": [],
   "source": [
    "import datetime as dt"
   ]
  },
  {
   "cell_type": "code",
   "execution_count": 12,
   "metadata": {},
   "outputs": [
    {
     "data": {
      "text/plain": [
       "'6/9/2014 5:37:00'"
      ]
     },
     "execution_count": 12,
     "metadata": {},
     "output_type": "execute_result"
    }
   ],
   "source": [
    "temp"
   ]
  },
  {
   "cell_type": "code",
   "execution_count": 13,
   "metadata": {},
   "outputs": [
    {
     "data": {
      "text/plain": [
       "datetime.datetime(2014, 6, 9, 5, 37)"
      ]
     },
     "execution_count": 13,
     "metadata": {},
     "output_type": "execute_result"
    }
   ],
   "source": [
    "dt.datetime.strptime(temp,\"%m/%d/%Y %H:%M:%S\")"
   ]
  },
  {
   "cell_type": "code",
   "execution_count": 14,
   "metadata": {},
   "outputs": [],
   "source": [
    "df_june_sample[\"dateTime\"] = df_june_sample[\"Date/Time\"].map(lambda string: dt.datetime.strptime(string,\"%m/%d/%Y %H:%M:%S\"))"
   ]
  },
  {
   "cell_type": "code",
   "execution_count": 15,
   "metadata": {},
   "outputs": [
    {
     "data": {
      "text/html": [
       "<div>\n",
       "<style scoped>\n",
       "    .dataframe tbody tr th:only-of-type {\n",
       "        vertical-align: middle;\n",
       "    }\n",
       "\n",
       "    .dataframe tbody tr th {\n",
       "        vertical-align: top;\n",
       "    }\n",
       "\n",
       "    .dataframe thead th {\n",
       "        text-align: right;\n",
       "    }\n",
       "</style>\n",
       "<table border=\"1\" class=\"dataframe\">\n",
       "  <thead>\n",
       "    <tr style=\"text-align: right;\">\n",
       "      <th></th>\n",
       "      <th>Date/Time</th>\n",
       "      <th>Lat</th>\n",
       "      <th>Lon</th>\n",
       "      <th>Base</th>\n",
       "      <th>dateTime</th>\n",
       "    </tr>\n",
       "  </thead>\n",
       "  <tbody>\n",
       "    <tr>\n",
       "      <th>98244</th>\n",
       "      <td>6/9/2014 5:37:00</td>\n",
       "      <td>40.7809</td>\n",
       "      <td>-73.9829</td>\n",
       "      <td>B02598</td>\n",
       "      <td>2014-06-09 05:37:00</td>\n",
       "    </tr>\n",
       "    <tr>\n",
       "      <th>212052</th>\n",
       "      <td>6/22/2014 15:54:00</td>\n",
       "      <td>40.7269</td>\n",
       "      <td>-73.9859</td>\n",
       "      <td>B02598</td>\n",
       "      <td>2014-06-22 15:54:00</td>\n",
       "    </tr>\n",
       "    <tr>\n",
       "      <th>657796</th>\n",
       "      <td>6/11/2014 5:45:00</td>\n",
       "      <td>40.7382</td>\n",
       "      <td>-74.0084</td>\n",
       "      <td>B02764</td>\n",
       "      <td>2014-06-11 05:45:00</td>\n",
       "    </tr>\n",
       "    <tr>\n",
       "      <th>405461</th>\n",
       "      <td>6/23/2014 8:07:00</td>\n",
       "      <td>40.6339</td>\n",
       "      <td>-73.9671</td>\n",
       "      <td>B02617</td>\n",
       "      <td>2014-06-23 08:07:00</td>\n",
       "    </tr>\n",
       "    <tr>\n",
       "      <th>589352</th>\n",
       "      <td>6/20/2014 5:18:00</td>\n",
       "      <td>40.7193</td>\n",
       "      <td>-73.9601</td>\n",
       "      <td>B02682</td>\n",
       "      <td>2014-06-20 05:18:00</td>\n",
       "    </tr>\n",
       "    <tr>\n",
       "      <th>...</th>\n",
       "      <td>...</td>\n",
       "      <td>...</td>\n",
       "      <td>...</td>\n",
       "      <td>...</td>\n",
       "      <td>...</td>\n",
       "    </tr>\n",
       "    <tr>\n",
       "      <th>500087</th>\n",
       "      <td>6/6/2014 22:29:00</td>\n",
       "      <td>40.7172</td>\n",
       "      <td>-73.9552</td>\n",
       "      <td>B02682</td>\n",
       "      <td>2014-06-06 22:29:00</td>\n",
       "    </tr>\n",
       "    <tr>\n",
       "      <th>551144</th>\n",
       "      <td>6/13/2014 20:55:00</td>\n",
       "      <td>40.7682</td>\n",
       "      <td>-73.8624</td>\n",
       "      <td>B02682</td>\n",
       "      <td>2014-06-13 20:55:00</td>\n",
       "    </tr>\n",
       "    <tr>\n",
       "      <th>151377</th>\n",
       "      <td>6/14/2014 18:31:00</td>\n",
       "      <td>40.6209</td>\n",
       "      <td>-74.0222</td>\n",
       "      <td>B02598</td>\n",
       "      <td>2014-06-14 18:31:00</td>\n",
       "    </tr>\n",
       "    <tr>\n",
       "      <th>20615</th>\n",
       "      <td>6/19/2014 4:01:00</td>\n",
       "      <td>40.7199</td>\n",
       "      <td>-73.9951</td>\n",
       "      <td>B02512</td>\n",
       "      <td>2014-06-19 04:01:00</td>\n",
       "    </tr>\n",
       "    <tr>\n",
       "      <th>657997</th>\n",
       "      <td>6/11/2014 17:33:00</td>\n",
       "      <td>40.7165</td>\n",
       "      <td>-74.0164</td>\n",
       "      <td>B02764</td>\n",
       "      <td>2014-06-11 17:33:00</td>\n",
       "    </tr>\n",
       "  </tbody>\n",
       "</table>\n",
       "<p>10000 rows × 5 columns</p>\n",
       "</div>"
      ],
      "text/plain": [
       "                 Date/Time      Lat      Lon    Base            dateTime\n",
       "98244     6/9/2014 5:37:00  40.7809 -73.9829  B02598 2014-06-09 05:37:00\n",
       "212052  6/22/2014 15:54:00  40.7269 -73.9859  B02598 2014-06-22 15:54:00\n",
       "657796   6/11/2014 5:45:00  40.7382 -74.0084  B02764 2014-06-11 05:45:00\n",
       "405461   6/23/2014 8:07:00  40.6339 -73.9671  B02617 2014-06-23 08:07:00\n",
       "589352   6/20/2014 5:18:00  40.7193 -73.9601  B02682 2014-06-20 05:18:00\n",
       "...                    ...      ...      ...     ...                 ...\n",
       "500087   6/6/2014 22:29:00  40.7172 -73.9552  B02682 2014-06-06 22:29:00\n",
       "551144  6/13/2014 20:55:00  40.7682 -73.8624  B02682 2014-06-13 20:55:00\n",
       "151377  6/14/2014 18:31:00  40.6209 -74.0222  B02598 2014-06-14 18:31:00\n",
       "20615    6/19/2014 4:01:00  40.7199 -73.9951  B02512 2014-06-19 04:01:00\n",
       "657997  6/11/2014 17:33:00  40.7165 -74.0164  B02764 2014-06-11 17:33:00\n",
       "\n",
       "[10000 rows x 5 columns]"
      ]
     },
     "execution_count": 15,
     "metadata": {},
     "output_type": "execute_result"
    }
   ],
   "source": [
    "df_june_sample"
   ]
  },
  {
   "cell_type": "code",
   "execution_count": 16,
   "metadata": {},
   "outputs": [],
   "source": [
    "from sklearn.cluster import KMeans"
   ]
  },
  {
   "cell_type": "code",
   "execution_count": 17,
   "metadata": {},
   "outputs": [
    {
     "data": {
      "text/html": [
       "<div>\n",
       "<style scoped>\n",
       "    .dataframe tbody tr th:only-of-type {\n",
       "        vertical-align: middle;\n",
       "    }\n",
       "\n",
       "    .dataframe tbody tr th {\n",
       "        vertical-align: top;\n",
       "    }\n",
       "\n",
       "    .dataframe thead th {\n",
       "        text-align: right;\n",
       "    }\n",
       "</style>\n",
       "<table border=\"1\" class=\"dataframe\">\n",
       "  <thead>\n",
       "    <tr style=\"text-align: right;\">\n",
       "      <th></th>\n",
       "      <th>Lat</th>\n",
       "      <th>Lon</th>\n",
       "    </tr>\n",
       "  </thead>\n",
       "  <tbody>\n",
       "    <tr>\n",
       "      <th>count</th>\n",
       "      <td>10000.000000</td>\n",
       "      <td>10000.000000</td>\n",
       "    </tr>\n",
       "    <tr>\n",
       "      <th>mean</th>\n",
       "      <td>40.740140</td>\n",
       "      <td>-73.974378</td>\n",
       "    </tr>\n",
       "    <tr>\n",
       "      <th>std</th>\n",
       "      <td>0.037839</td>\n",
       "      <td>0.054808</td>\n",
       "    </tr>\n",
       "    <tr>\n",
       "      <th>min</th>\n",
       "      <td>40.176800</td>\n",
       "      <td>-74.484200</td>\n",
       "    </tr>\n",
       "    <tr>\n",
       "      <th>25%</th>\n",
       "      <td>40.722000</td>\n",
       "      <td>-73.996600</td>\n",
       "    </tr>\n",
       "    <tr>\n",
       "      <th>50%</th>\n",
       "      <td>40.743800</td>\n",
       "      <td>-73.983600</td>\n",
       "    </tr>\n",
       "    <tr>\n",
       "      <th>75%</th>\n",
       "      <td>40.761200</td>\n",
       "      <td>-73.968100</td>\n",
       "    </tr>\n",
       "    <tr>\n",
       "      <th>max</th>\n",
       "      <td>41.211400</td>\n",
       "      <td>-73.041700</td>\n",
       "    </tr>\n",
       "  </tbody>\n",
       "</table>\n",
       "</div>"
      ],
      "text/plain": [
       "                Lat           Lon\n",
       "count  10000.000000  10000.000000\n",
       "mean      40.740140    -73.974378\n",
       "std        0.037839      0.054808\n",
       "min       40.176800    -74.484200\n",
       "25%       40.722000    -73.996600\n",
       "50%       40.743800    -73.983600\n",
       "75%       40.761200    -73.968100\n",
       "max       41.211400    -73.041700"
      ]
     },
     "execution_count": 17,
     "metadata": {},
     "output_type": "execute_result"
    }
   ],
   "source": [
    "df_june_sample.describe() #mean = centre de gravite des uber\n",
    "#pas de valeurs aberrantes"
   ]
  },
  {
   "cell_type": "code",
   "execution_count": 18,
   "metadata": {},
   "outputs": [
    {
     "name": "stdout",
     "output_type": "stream",
     "text": [
      "<class 'pandas.core.frame.DataFrame'>\n",
      "Int64Index: 10000 entries, 98244 to 657997\n",
      "Data columns (total 5 columns):\n",
      " #   Column     Non-Null Count  Dtype         \n",
      "---  ------     --------------  -----         \n",
      " 0   Date/Time  10000 non-null  object        \n",
      " 1   Lat        10000 non-null  float64       \n",
      " 2   Lon        10000 non-null  float64       \n",
      " 3   Base       10000 non-null  object        \n",
      " 4   dateTime   10000 non-null  datetime64[ns]\n",
      "dtypes: datetime64[ns](1), float64(2), object(2)\n",
      "memory usage: 468.8+ KB\n"
     ]
    }
   ],
   "source": [
    "df_june_sample.info()\n",
    "#pas de val manquantes"
   ]
  },
  {
   "cell_type": "code",
   "execution_count": 19,
   "metadata": {},
   "outputs": [],
   "source": [
    "from sklearn.preprocessing import   StandardScaler"
   ]
  },
  {
   "cell_type": "code",
   "execution_count": 20,
   "metadata": {},
   "outputs": [],
   "source": [
    "#Preprocessing"
   ]
  },
  {
   "cell_type": "code",
   "execution_count": 21,
   "metadata": {},
   "outputs": [],
   "source": [
    "X_Clust = df_june_sample[['Lat', 'Lon']]\n"
   ]
  },
  {
   "cell_type": "code",
   "execution_count": 22,
   "metadata": {},
   "outputs": [],
   "source": [
    "sc = StandardScaler()"
   ]
  },
  {
   "cell_type": "code",
   "execution_count": 23,
   "metadata": {},
   "outputs": [],
   "source": [
    "X_clust_aftersc = sc.fit_transform(X_Clust)"
   ]
  },
  {
   "cell_type": "code",
   "execution_count": 24,
   "metadata": {},
   "outputs": [
    {
     "data": {
      "text/plain": [
       "array([[ 1.07725207, -0.15550259],\n",
       "       [-0.34990932, -0.21024231],\n",
       "       [-0.05126258, -0.6207902 ],\n",
       "       [-2.80779838,  0.13279327],\n",
       "       [-0.55076907,  0.26051928]])"
      ]
     },
     "execution_count": 24,
     "metadata": {},
     "output_type": "execute_result"
    }
   ],
   "source": [
    "X_clust_aftersc[0:5]"
   ]
  },
  {
   "cell_type": "code",
   "execution_count": 25,
   "metadata": {},
   "outputs": [],
   "source": [
    "#Kmeans"
   ]
  },
  {
   "cell_type": "code",
   "execution_count": 26,
   "metadata": {},
   "outputs": [],
   "source": [
    "est = KMeans(n_clusters = 5)"
   ]
  },
  {
   "cell_type": "code",
   "execution_count": 27,
   "metadata": {},
   "outputs": [
    {
     "data": {
      "text/plain": [
       "KMeans(n_clusters=5)"
      ]
     },
     "execution_count": 27,
     "metadata": {},
     "output_type": "execute_result"
    }
   ],
   "source": [
    "est.fit(X_clust_aftersc)"
   ]
  },
  {
   "cell_type": "code",
   "execution_count": 28,
   "metadata": {},
   "outputs": [],
   "source": [
    "labelsX = est.labels_ #10000lignes   ici  10000valeurs qui correspondent aux 10000lignes"
   ]
  },
  {
   "cell_type": "code",
   "execution_count": 29,
   "metadata": {},
   "outputs": [
    {
     "data": {
      "text/plain": [
       "10000"
      ]
     },
     "execution_count": 29,
     "metadata": {},
     "output_type": "execute_result"
    }
   ],
   "source": [
    "len(labelsX)"
   ]
  },
  {
   "cell_type": "code",
   "execution_count": 30,
   "metadata": {},
   "outputs": [],
   "source": [
    "df_june_sample['labels1'] = labelsX"
   ]
  },
  {
   "cell_type": "code",
   "execution_count": 31,
   "metadata": {},
   "outputs": [
    {
     "data": {
      "text/html": [
       "<div>\n",
       "<style scoped>\n",
       "    .dataframe tbody tr th:only-of-type {\n",
       "        vertical-align: middle;\n",
       "    }\n",
       "\n",
       "    .dataframe tbody tr th {\n",
       "        vertical-align: top;\n",
       "    }\n",
       "\n",
       "    .dataframe thead th {\n",
       "        text-align: right;\n",
       "    }\n",
       "</style>\n",
       "<table border=\"1\" class=\"dataframe\">\n",
       "  <thead>\n",
       "    <tr style=\"text-align: right;\">\n",
       "      <th></th>\n",
       "      <th>Date/Time</th>\n",
       "      <th>Lat</th>\n",
       "      <th>Lon</th>\n",
       "      <th>Base</th>\n",
       "      <th>dateTime</th>\n",
       "      <th>labels1</th>\n",
       "    </tr>\n",
       "  </thead>\n",
       "  <tbody>\n",
       "    <tr>\n",
       "      <th>98244</th>\n",
       "      <td>6/9/2014 5:37:00</td>\n",
       "      <td>40.7809</td>\n",
       "      <td>-73.9829</td>\n",
       "      <td>B02598</td>\n",
       "      <td>2014-06-09 05:37:00</td>\n",
       "      <td>0</td>\n",
       "    </tr>\n",
       "    <tr>\n",
       "      <th>212052</th>\n",
       "      <td>6/22/2014 15:54:00</td>\n",
       "      <td>40.7269</td>\n",
       "      <td>-73.9859</td>\n",
       "      <td>B02598</td>\n",
       "      <td>2014-06-22 15:54:00</td>\n",
       "      <td>2</td>\n",
       "    </tr>\n",
       "    <tr>\n",
       "      <th>657796</th>\n",
       "      <td>6/11/2014 5:45:00</td>\n",
       "      <td>40.7382</td>\n",
       "      <td>-74.0084</td>\n",
       "      <td>B02764</td>\n",
       "      <td>2014-06-11 05:45:00</td>\n",
       "      <td>0</td>\n",
       "    </tr>\n",
       "    <tr>\n",
       "      <th>405461</th>\n",
       "      <td>6/23/2014 8:07:00</td>\n",
       "      <td>40.6339</td>\n",
       "      <td>-73.9671</td>\n",
       "      <td>B02617</td>\n",
       "      <td>2014-06-23 08:07:00</td>\n",
       "      <td>2</td>\n",
       "    </tr>\n",
       "    <tr>\n",
       "      <th>589352</th>\n",
       "      <td>6/20/2014 5:18:00</td>\n",
       "      <td>40.7193</td>\n",
       "      <td>-73.9601</td>\n",
       "      <td>B02682</td>\n",
       "      <td>2014-06-20 05:18:00</td>\n",
       "      <td>2</td>\n",
       "    </tr>\n",
       "  </tbody>\n",
       "</table>\n",
       "</div>"
      ],
      "text/plain": [
       "                 Date/Time      Lat      Lon    Base            dateTime  \\\n",
       "98244     6/9/2014 5:37:00  40.7809 -73.9829  B02598 2014-06-09 05:37:00   \n",
       "212052  6/22/2014 15:54:00  40.7269 -73.9859  B02598 2014-06-22 15:54:00   \n",
       "657796   6/11/2014 5:45:00  40.7382 -74.0084  B02764 2014-06-11 05:45:00   \n",
       "405461   6/23/2014 8:07:00  40.6339 -73.9671  B02617 2014-06-23 08:07:00   \n",
       "589352   6/20/2014 5:18:00  40.7193 -73.9601  B02682 2014-06-20 05:18:00   \n",
       "\n",
       "        labels1  \n",
       "98244         0  \n",
       "212052        2  \n",
       "657796        0  \n",
       "405461        2  \n",
       "589352        2  "
      ]
     },
     "execution_count": 31,
     "metadata": {},
     "output_type": "execute_result"
    }
   ],
   "source": [
    "df_june_sample.head()"
   ]
  },
  {
   "cell_type": "code",
   "execution_count": 32,
   "metadata": {},
   "outputs": [
    {
     "data": {
      "text/html": [
       "<div>\n",
       "<style scoped>\n",
       "    .dataframe tbody tr th:only-of-type {\n",
       "        vertical-align: middle;\n",
       "    }\n",
       "\n",
       "    .dataframe tbody tr th {\n",
       "        vertical-align: top;\n",
       "    }\n",
       "\n",
       "    .dataframe thead th {\n",
       "        text-align: right;\n",
       "    }\n",
       "</style>\n",
       "<table border=\"1\" class=\"dataframe\">\n",
       "  <thead>\n",
       "    <tr style=\"text-align: right;\">\n",
       "      <th></th>\n",
       "      <th>Lat</th>\n",
       "      <th>Lon</th>\n",
       "      <th>labels1</th>\n",
       "    </tr>\n",
       "  </thead>\n",
       "  <tbody>\n",
       "    <tr>\n",
       "      <th>count</th>\n",
       "      <td>10000.000000</td>\n",
       "      <td>10000.000000</td>\n",
       "      <td>10000.000000</td>\n",
       "    </tr>\n",
       "    <tr>\n",
       "      <th>mean</th>\n",
       "      <td>40.740140</td>\n",
       "      <td>-73.974378</td>\n",
       "      <td>1.013400</td>\n",
       "    </tr>\n",
       "    <tr>\n",
       "      <th>std</th>\n",
       "      <td>0.037839</td>\n",
       "      <td>0.054808</td>\n",
       "      <td>1.204643</td>\n",
       "    </tr>\n",
       "    <tr>\n",
       "      <th>min</th>\n",
       "      <td>40.176800</td>\n",
       "      <td>-74.484200</td>\n",
       "      <td>0.000000</td>\n",
       "    </tr>\n",
       "    <tr>\n",
       "      <th>25%</th>\n",
       "      <td>40.722000</td>\n",
       "      <td>-73.996600</td>\n",
       "      <td>0.000000</td>\n",
       "    </tr>\n",
       "    <tr>\n",
       "      <th>50%</th>\n",
       "      <td>40.743800</td>\n",
       "      <td>-73.983600</td>\n",
       "      <td>0.000000</td>\n",
       "    </tr>\n",
       "    <tr>\n",
       "      <th>75%</th>\n",
       "      <td>40.761200</td>\n",
       "      <td>-73.968100</td>\n",
       "      <td>2.000000</td>\n",
       "    </tr>\n",
       "    <tr>\n",
       "      <th>max</th>\n",
       "      <td>41.211400</td>\n",
       "      <td>-73.041700</td>\n",
       "      <td>4.000000</td>\n",
       "    </tr>\n",
       "  </tbody>\n",
       "</table>\n",
       "</div>"
      ],
      "text/plain": [
       "                Lat           Lon       labels1\n",
       "count  10000.000000  10000.000000  10000.000000\n",
       "mean      40.740140    -73.974378      1.013400\n",
       "std        0.037839      0.054808      1.204643\n",
       "min       40.176800    -74.484200      0.000000\n",
       "25%       40.722000    -73.996600      0.000000\n",
       "50%       40.743800    -73.983600      0.000000\n",
       "75%       40.761200    -73.968100      2.000000\n",
       "max       41.211400    -73.041700      4.000000"
      ]
     },
     "execution_count": 32,
     "metadata": {},
     "output_type": "execute_result"
    }
   ],
   "source": [
    "df_june_sample.describe()"
   ]
  },
  {
   "cell_type": "code",
   "execution_count": 33,
   "metadata": {},
   "outputs": [
    {
     "data": {
      "text/plain": [
       "0    5393\n",
       "2    3624\n",
       "4     563\n",
       "1     313\n",
       "3     107\n",
       "Name: labels1, dtype: int64"
      ]
     },
     "execution_count": 33,
     "metadata": {},
     "output_type": "execute_result"
    }
   ],
   "source": [
    "df_june_sample['labels1'].value_counts()"
   ]
  },
  {
   "cell_type": "code",
   "execution_count": 34,
   "metadata": {},
   "outputs": [
    {
     "data": {
      "text/plain": [
       "<AxesSubplot:>"
      ]
     },
     "execution_count": 34,
     "metadata": {},
     "output_type": "execute_result"
    },
    {
     "data": {
      "image/png": "[encoded data removed]",
      "text/plain": [
       "<Figure size 432x288 with 1 Axes>"
      ]
     },
     "metadata": {
      "needs_background": "light"
     },
     "output_type": "display_data"
    }
   ],
   "source": [
    "df_june_sample['labels1'].value_counts().plot.bar()"
   ]
  },
  {
   "cell_type": "code",
   "execution_count": 61,
   "metadata": {},
   "outputs": [
    {
     "name": "stdout",
     "output_type": "stream",
     "text": [
      "[14017.69250989453, 9520.493795715058, 7748.722499732985, 6345.692148780142, 5092.29082348807, 4315.843241133211, 3698.506740902681, 3284.607909171716, 2892.4166641524794]\n"
     ]
    }
   ],
   "source": [
    "# Utilisation de la méthode Elbow pour trouver le nombre optimal de clusters\n",
    "\n",
    "wcss =  []\n",
    "for i in range (2,11): \n",
    "    kmeans = KMeans(n_clusters= i)\n",
    "    kmeans.fit(X_clust_aftersc)\n",
    "    wcss.append(kmeans.inertia_)\n",
    "    \n",
    "print(wcss)"
   ]
  },
  {
   "cell_type": "code",
   "execution_count": 62,
   "metadata": {},
   "outputs": [
    {
     "data": {
      "text/html": [
       "<iframe\n",
       "    scrolling=\"no\"\n",
       "    width=\"100%\"\n",
       "    height=\"545px\"\n",
       "    src=\"iframe_figures/figure_62.html\"\n",
       "    frameborder=\"0\"\n",
       "    allowfullscreen\n",
       "></iframe>\n"
      ]
     },
     "metadata": {},
     "output_type": "display_data"
    }
   ],
   "source": [
    "fig = px.line(x = range(2,11), y = wcss)\n",
    "fig.show()"
   ]
  },
  {
   "cell_type": "code",
   "execution_count": null,
   "metadata": {},
   "outputs": [],
   "source": []
  },
  {
   "cell_type": "code",
   "execution_count": 35,
   "metadata": {},
   "outputs": [
    {
     "name": "stdout",
     "output_type": "stream",
     "text": [
      "0\n",
      "(5393, 6)\n",
      "1\n",
      "(313, 6)\n",
      "2\n",
      "(3624, 6)\n",
      "3\n",
      "(107, 6)\n",
      "4\n",
      "(563, 6)\n"
     ]
    },
    {
     "data": {
      "image/png": "[encoded data removed]",
      "text/plain": [
       "<Figure size 864x864 with 1 Axes>"
      ]
     },
     "metadata": {
      "needs_background": "light"
     },
     "output_type": "display_data"
    }
   ],
   "source": [
    "plt.figure(figsize=(12,12))\n",
    "for cluster in set(labelsX):\n",
    "    print(cluster)\n",
    "    df_clustloc = df_june_sample[df_june_sample['labels1'] == cluster]\n",
    "    print(df_clustloc.shape)\n",
    "    plt.plot(df_clustloc['Lon'], df_clustloc['Lat'],'x', label= str(cluster))\n",
    "plt.legend()\n",
    "plt.show()\n",
    "    "
   ]
  },
  {
   "cell_type": "code",
   "execution_count": 36,
   "metadata": {},
   "outputs": [],
   "source": [
    "#Dscan"
   ]
  },
  {
   "cell_type": "code",
   "execution_count": 37,
   "metadata": {},
   "outputs": [],
   "source": [
    "from sklearn.cluster import DBSCAN"
   ]
  },
  {
   "cell_type": "code",
   "execution_count": 38,
   "metadata": {},
   "outputs": [],
   "source": [
    "#epsfloat, default=0.5\n",
    "#The maximum distance between two samples for one to be considered as in the neighborhood of the other. This is not a maximum bound on the distances of points within a cluster. This is the most important DBSCAN parameter to choose appropriately for your data set and distance function."
   ]
  },
  {
   "cell_type": "code",
   "execution_count": 39,
   "metadata": {},
   "outputs": [],
   "source": [
    "est2 = DBSCAN(eps = 0.40) #eps depend de l'utilisation qu on en fait   dbscan bon pour outliers\n",
    "#ici avec 2  va chercher les voisins plus loin  on part d'une zone de hte densite   puis agrege le plus grd nbre de points"
   ]
  },
  {
   "cell_type": "code",
   "execution_count": 40,
   "metadata": {},
   "outputs": [
    {
     "data": {
      "text/plain": [
       "DBSCAN(eps=0.4)"
      ]
     },
     "execution_count": 40,
     "metadata": {},
     "output_type": "execute_result"
    }
   ],
   "source": [
    "est2.fit(X_clust_aftersc)"
   ]
  },
  {
   "cell_type": "code",
   "execution_count": 41,
   "metadata": {},
   "outputs": [],
   "source": [
    "labelsX2 = est2.labels_"
   ]
  },
  {
   "cell_type": "code",
   "execution_count": 42,
   "metadata": {},
   "outputs": [
    {
     "data": {
      "text/plain": [
       "10000"
      ]
     },
     "execution_count": 42,
     "metadata": {},
     "output_type": "execute_result"
    }
   ],
   "source": [
    "len(labelsX2)"
   ]
  },
  {
   "cell_type": "code",
   "execution_count": 43,
   "metadata": {},
   "outputs": [],
   "source": [
    "df_june_sample['labels2'] = labelsX2"
   ]
  },
  {
   "cell_type": "code",
   "execution_count": 44,
   "metadata": {},
   "outputs": [
    {
     "data": {
      "text/html": [
       "<div>\n",
       "<style scoped>\n",
       "    .dataframe tbody tr th:only-of-type {\n",
       "        vertical-align: middle;\n",
       "    }\n",
       "\n",
       "    .dataframe tbody tr th {\n",
       "        vertical-align: top;\n",
       "    }\n",
       "\n",
       "    .dataframe thead th {\n",
       "        text-align: right;\n",
       "    }\n",
       "</style>\n",
       "<table border=\"1\" class=\"dataframe\">\n",
       "  <thead>\n",
       "    <tr style=\"text-align: right;\">\n",
       "      <th></th>\n",
       "      <th>Date/Time</th>\n",
       "      <th>Lat</th>\n",
       "      <th>Lon</th>\n",
       "      <th>Base</th>\n",
       "      <th>dateTime</th>\n",
       "      <th>labels1</th>\n",
       "      <th>labels2</th>\n",
       "    </tr>\n",
       "  </thead>\n",
       "  <tbody>\n",
       "    <tr>\n",
       "      <th>98244</th>\n",
       "      <td>6/9/2014 5:37:00</td>\n",
       "      <td>40.7809</td>\n",
       "      <td>-73.9829</td>\n",
       "      <td>B02598</td>\n",
       "      <td>2014-06-09 05:37:00</td>\n",
       "      <td>0</td>\n",
       "      <td>0</td>\n",
       "    </tr>\n",
       "    <tr>\n",
       "      <th>212052</th>\n",
       "      <td>6/22/2014 15:54:00</td>\n",
       "      <td>40.7269</td>\n",
       "      <td>-73.9859</td>\n",
       "      <td>B02598</td>\n",
       "      <td>2014-06-22 15:54:00</td>\n",
       "      <td>2</td>\n",
       "      <td>0</td>\n",
       "    </tr>\n",
       "    <tr>\n",
       "      <th>657796</th>\n",
       "      <td>6/11/2014 5:45:00</td>\n",
       "      <td>40.7382</td>\n",
       "      <td>-74.0084</td>\n",
       "      <td>B02764</td>\n",
       "      <td>2014-06-11 05:45:00</td>\n",
       "      <td>0</td>\n",
       "      <td>0</td>\n",
       "    </tr>\n",
       "    <tr>\n",
       "      <th>405461</th>\n",
       "      <td>6/23/2014 8:07:00</td>\n",
       "      <td>40.6339</td>\n",
       "      <td>-73.9671</td>\n",
       "      <td>B02617</td>\n",
       "      <td>2014-06-23 08:07:00</td>\n",
       "      <td>2</td>\n",
       "      <td>0</td>\n",
       "    </tr>\n",
       "    <tr>\n",
       "      <th>589352</th>\n",
       "      <td>6/20/2014 5:18:00</td>\n",
       "      <td>40.7193</td>\n",
       "      <td>-73.9601</td>\n",
       "      <td>B02682</td>\n",
       "      <td>2014-06-20 05:18:00</td>\n",
       "      <td>2</td>\n",
       "      <td>0</td>\n",
       "    </tr>\n",
       "  </tbody>\n",
       "</table>\n",
       "</div>"
      ],
      "text/plain": [
       "                 Date/Time      Lat      Lon    Base            dateTime  \\\n",
       "98244     6/9/2014 5:37:00  40.7809 -73.9829  B02598 2014-06-09 05:37:00   \n",
       "212052  6/22/2014 15:54:00  40.7269 -73.9859  B02598 2014-06-22 15:54:00   \n",
       "657796   6/11/2014 5:45:00  40.7382 -74.0084  B02764 2014-06-11 05:45:00   \n",
       "405461   6/23/2014 8:07:00  40.6339 -73.9671  B02617 2014-06-23 08:07:00   \n",
       "589352   6/20/2014 5:18:00  40.7193 -73.9601  B02682 2014-06-20 05:18:00   \n",
       "\n",
       "        labels1  labels2  \n",
       "98244         0        0  \n",
       "212052        2        0  \n",
       "657796        0        0  \n",
       "405461        2        0  \n",
       "589352        2        0  "
      ]
     },
     "execution_count": 44,
     "metadata": {},
     "output_type": "execute_result"
    }
   ],
   "source": [
    "df_june_sample.head()"
   ]
  },
  {
   "cell_type": "code",
   "execution_count": 45,
   "metadata": {},
   "outputs": [
    {
     "data": {
      "text/html": [
       "<div>\n",
       "<style scoped>\n",
       "    .dataframe tbody tr th:only-of-type {\n",
       "        vertical-align: middle;\n",
       "    }\n",
       "\n",
       "    .dataframe tbody tr th {\n",
       "        vertical-align: top;\n",
       "    }\n",
       "\n",
       "    .dataframe thead th {\n",
       "        text-align: right;\n",
       "    }\n",
       "</style>\n",
       "<table border=\"1\" class=\"dataframe\">\n",
       "  <thead>\n",
       "    <tr style=\"text-align: right;\">\n",
       "      <th></th>\n",
       "      <th>Lat</th>\n",
       "      <th>Lon</th>\n",
       "      <th>labels1</th>\n",
       "      <th>labels2</th>\n",
       "    </tr>\n",
       "  </thead>\n",
       "  <tbody>\n",
       "    <tr>\n",
       "      <th>count</th>\n",
       "      <td>10000.000000</td>\n",
       "      <td>10000.000000</td>\n",
       "      <td>10000.000000</td>\n",
       "      <td>10000.000000</td>\n",
       "    </tr>\n",
       "    <tr>\n",
       "      <th>mean</th>\n",
       "      <td>40.740140</td>\n",
       "      <td>-73.974378</td>\n",
       "      <td>1.013400</td>\n",
       "      <td>0.033800</td>\n",
       "    </tr>\n",
       "    <tr>\n",
       "      <th>std</th>\n",
       "      <td>0.037839</td>\n",
       "      <td>0.054808</td>\n",
       "      <td>1.204643</td>\n",
       "      <td>0.306051</td>\n",
       "    </tr>\n",
       "    <tr>\n",
       "      <th>min</th>\n",
       "      <td>40.176800</td>\n",
       "      <td>-74.484200</td>\n",
       "      <td>0.000000</td>\n",
       "      <td>-1.000000</td>\n",
       "    </tr>\n",
       "    <tr>\n",
       "      <th>25%</th>\n",
       "      <td>40.722000</td>\n",
       "      <td>-73.996600</td>\n",
       "      <td>0.000000</td>\n",
       "      <td>0.000000</td>\n",
       "    </tr>\n",
       "    <tr>\n",
       "      <th>50%</th>\n",
       "      <td>40.743800</td>\n",
       "      <td>-73.983600</td>\n",
       "      <td>0.000000</td>\n",
       "      <td>0.000000</td>\n",
       "    </tr>\n",
       "    <tr>\n",
       "      <th>75%</th>\n",
       "      <td>40.761200</td>\n",
       "      <td>-73.968100</td>\n",
       "      <td>2.000000</td>\n",
       "      <td>0.000000</td>\n",
       "    </tr>\n",
       "    <tr>\n",
       "      <th>max</th>\n",
       "      <td>41.211400</td>\n",
       "      <td>-73.041700</td>\n",
       "      <td>4.000000</td>\n",
       "      <td>5.000000</td>\n",
       "    </tr>\n",
       "  </tbody>\n",
       "</table>\n",
       "</div>"
      ],
      "text/plain": [
       "                Lat           Lon       labels1       labels2\n",
       "count  10000.000000  10000.000000  10000.000000  10000.000000\n",
       "mean      40.740140    -73.974378      1.013400      0.033800\n",
       "std        0.037839      0.054808      1.204643      0.306051\n",
       "min       40.176800    -74.484200      0.000000     -1.000000\n",
       "25%       40.722000    -73.996600      0.000000      0.000000\n",
       "50%       40.743800    -73.983600      0.000000      0.000000\n",
       "75%       40.761200    -73.968100      2.000000      0.000000\n",
       "max       41.211400    -73.041700      4.000000      5.000000"
      ]
     },
     "execution_count": 45,
     "metadata": {},
     "output_type": "execute_result"
    }
   ],
   "source": [
    "df_june_sample.describe()"
   ]
  },
  {
   "cell_type": "code",
   "execution_count": 46,
   "metadata": {},
   "outputs": [
    {
     "data": {
      "text/plain": [
       " 0    9570\n",
       " 1     219\n",
       "-1     113\n",
       " 2      79\n",
       " 3       7\n",
       " 4       7\n",
       " 5       5\n",
       "Name: labels2, dtype: int64"
      ]
     },
     "execution_count": 46,
     "metadata": {},
     "output_type": "execute_result"
    }
   ],
   "source": [
    "df_june_sample['labels2'].value_counts() #encore plus heterogenes /kmeans"
   ]
  },
  {
   "cell_type": "code",
   "execution_count": 47,
   "metadata": {},
   "outputs": [
    {
     "name": "stdout",
     "output_type": "stream",
     "text": [
      "0\n",
      "(9570, 7)\n",
      "1\n",
      "(219, 7)\n",
      "2\n",
      "(79, 7)\n",
      "3\n",
      "(7, 7)\n",
      "4\n",
      "(7, 7)\n",
      "5\n",
      "(5, 7)\n",
      "-1\n",
      "(113, 7)\n"
     ]
    },
    {
     "data": {
      "image/png": "[encoded data removed]",
      "text/plain": [
       "<Figure size 864x864 with 1 Axes>"
      ]
     },
     "metadata": {
      "needs_background": "light"
     },
     "output_type": "display_data"
    }
   ],
   "source": [
    "plt.figure(figsize=(12,12))\n",
    "for cluster in set(labelsX2):\n",
    "    print(cluster)\n",
    "    df_clustloc = df_june_sample[df_june_sample['labels2'] == cluster]\n",
    "    print(df_clustloc.shape)\n",
    "    plt.plot(df_clustloc['Lon'], df_clustloc['Lat'],'x', label= str(cluster))\n",
    "plt.legend()\n",
    "plt.show()"
   ]
  },
  {
   "cell_type": "code",
   "execution_count": 48,
   "metadata": {},
   "outputs": [],
   "source": [
    "#datetime"
   ]
  },
  {
   "cell_type": "code",
   "execution_count": 49,
   "metadata": {},
   "outputs": [
    {
     "data": {
      "text/html": [
       "<div>\n",
       "<style scoped>\n",
       "    .dataframe tbody tr th:only-of-type {\n",
       "        vertical-align: middle;\n",
       "    }\n",
       "\n",
       "    .dataframe tbody tr th {\n",
       "        vertical-align: top;\n",
       "    }\n",
       "\n",
       "    .dataframe thead th {\n",
       "        text-align: right;\n",
       "    }\n",
       "</style>\n",
       "<table border=\"1\" class=\"dataframe\">\n",
       "  <thead>\n",
       "    <tr style=\"text-align: right;\">\n",
       "      <th></th>\n",
       "      <th>Date/Time</th>\n",
       "      <th>Lat</th>\n",
       "      <th>Lon</th>\n",
       "      <th>Base</th>\n",
       "      <th>dateTime</th>\n",
       "      <th>labels1</th>\n",
       "      <th>labels2</th>\n",
       "    </tr>\n",
       "  </thead>\n",
       "  <tbody>\n",
       "    <tr>\n",
       "      <th>98244</th>\n",
       "      <td>6/9/2014 5:37:00</td>\n",
       "      <td>40.7809</td>\n",
       "      <td>-73.9829</td>\n",
       "      <td>B02598</td>\n",
       "      <td>2014-06-09 05:37:00</td>\n",
       "      <td>0</td>\n",
       "      <td>0</td>\n",
       "    </tr>\n",
       "    <tr>\n",
       "      <th>212052</th>\n",
       "      <td>6/22/2014 15:54:00</td>\n",
       "      <td>40.7269</td>\n",
       "      <td>-73.9859</td>\n",
       "      <td>B02598</td>\n",
       "      <td>2014-06-22 15:54:00</td>\n",
       "      <td>2</td>\n",
       "      <td>0</td>\n",
       "    </tr>\n",
       "    <tr>\n",
       "      <th>657796</th>\n",
       "      <td>6/11/2014 5:45:00</td>\n",
       "      <td>40.7382</td>\n",
       "      <td>-74.0084</td>\n",
       "      <td>B02764</td>\n",
       "      <td>2014-06-11 05:45:00</td>\n",
       "      <td>0</td>\n",
       "      <td>0</td>\n",
       "    </tr>\n",
       "    <tr>\n",
       "      <th>405461</th>\n",
       "      <td>6/23/2014 8:07:00</td>\n",
       "      <td>40.6339</td>\n",
       "      <td>-73.9671</td>\n",
       "      <td>B02617</td>\n",
       "      <td>2014-06-23 08:07:00</td>\n",
       "      <td>2</td>\n",
       "      <td>0</td>\n",
       "    </tr>\n",
       "    <tr>\n",
       "      <th>589352</th>\n",
       "      <td>6/20/2014 5:18:00</td>\n",
       "      <td>40.7193</td>\n",
       "      <td>-73.9601</td>\n",
       "      <td>B02682</td>\n",
       "      <td>2014-06-20 05:18:00</td>\n",
       "      <td>2</td>\n",
       "      <td>0</td>\n",
       "    </tr>\n",
       "    <tr>\n",
       "      <th>...</th>\n",
       "      <td>...</td>\n",
       "      <td>...</td>\n",
       "      <td>...</td>\n",
       "      <td>...</td>\n",
       "      <td>...</td>\n",
       "      <td>...</td>\n",
       "      <td>...</td>\n",
       "    </tr>\n",
       "    <tr>\n",
       "      <th>500087</th>\n",
       "      <td>6/6/2014 22:29:00</td>\n",
       "      <td>40.7172</td>\n",
       "      <td>-73.9552</td>\n",
       "      <td>B02682</td>\n",
       "      <td>2014-06-06 22:29:00</td>\n",
       "      <td>2</td>\n",
       "      <td>0</td>\n",
       "    </tr>\n",
       "    <tr>\n",
       "      <th>551144</th>\n",
       "      <td>6/13/2014 20:55:00</td>\n",
       "      <td>40.7682</td>\n",
       "      <td>-73.8624</td>\n",
       "      <td>B02682</td>\n",
       "      <td>2014-06-13 20:55:00</td>\n",
       "      <td>4</td>\n",
       "      <td>0</td>\n",
       "    </tr>\n",
       "    <tr>\n",
       "      <th>151377</th>\n",
       "      <td>6/14/2014 18:31:00</td>\n",
       "      <td>40.6209</td>\n",
       "      <td>-74.0222</td>\n",
       "      <td>B02598</td>\n",
       "      <td>2014-06-14 18:31:00</td>\n",
       "      <td>2</td>\n",
       "      <td>0</td>\n",
       "    </tr>\n",
       "    <tr>\n",
       "      <th>20615</th>\n",
       "      <td>6/19/2014 4:01:00</td>\n",
       "      <td>40.7199</td>\n",
       "      <td>-73.9951</td>\n",
       "      <td>B02512</td>\n",
       "      <td>2014-06-19 04:01:00</td>\n",
       "      <td>2</td>\n",
       "      <td>0</td>\n",
       "    </tr>\n",
       "    <tr>\n",
       "      <th>657997</th>\n",
       "      <td>6/11/2014 17:33:00</td>\n",
       "      <td>40.7165</td>\n",
       "      <td>-74.0164</td>\n",
       "      <td>B02764</td>\n",
       "      <td>2014-06-11 17:33:00</td>\n",
       "      <td>2</td>\n",
       "      <td>0</td>\n",
       "    </tr>\n",
       "  </tbody>\n",
       "</table>\n",
       "<p>10000 rows × 7 columns</p>\n",
       "</div>"
      ],
      "text/plain": [
       "                 Date/Time      Lat      Lon    Base            dateTime  \\\n",
       "98244     6/9/2014 5:37:00  40.7809 -73.9829  B02598 2014-06-09 05:37:00   \n",
       "212052  6/22/2014 15:54:00  40.7269 -73.9859  B02598 2014-06-22 15:54:00   \n",
       "657796   6/11/2014 5:45:00  40.7382 -74.0084  B02764 2014-06-11 05:45:00   \n",
       "405461   6/23/2014 8:07:00  40.6339 -73.9671  B02617 2014-06-23 08:07:00   \n",
       "589352   6/20/2014 5:18:00  40.7193 -73.9601  B02682 2014-06-20 05:18:00   \n",
       "...                    ...      ...      ...     ...                 ...   \n",
       "500087   6/6/2014 22:29:00  40.7172 -73.9552  B02682 2014-06-06 22:29:00   \n",
       "551144  6/13/2014 20:55:00  40.7682 -73.8624  B02682 2014-06-13 20:55:00   \n",
       "151377  6/14/2014 18:31:00  40.6209 -74.0222  B02598 2014-06-14 18:31:00   \n",
       "20615    6/19/2014 4:01:00  40.7199 -73.9951  B02512 2014-06-19 04:01:00   \n",
       "657997  6/11/2014 17:33:00  40.7165 -74.0164  B02764 2014-06-11 17:33:00   \n",
       "\n",
       "        labels1  labels2  \n",
       "98244         0        0  \n",
       "212052        2        0  \n",
       "657796        0        0  \n",
       "405461        2        0  \n",
       "589352        2        0  \n",
       "...         ...      ...  \n",
       "500087        2        0  \n",
       "551144        4        0  \n",
       "151377        2        0  \n",
       "20615         2        0  \n",
       "657997        2        0  \n",
       "\n",
       "[10000 rows x 7 columns]"
      ]
     },
     "execution_count": 49,
     "metadata": {},
     "output_type": "execute_result"
    }
   ],
   "source": [
    "df_june_sample"
   ]
  },
  {
   "cell_type": "code",
   "execution_count": 50,
   "metadata": {},
   "outputs": [
    {
     "data": {
      "text/plain": [
       "Timestamp('2014-06-09 05:37:00')"
      ]
     },
     "execution_count": 50,
     "metadata": {},
     "output_type": "execute_result"
    }
   ],
   "source": [
    "temp = df_june_sample.iloc[0]['dateTime'] #iloc position et loc index\n",
    "temp"
   ]
  },
  {
   "cell_type": "code",
   "execution_count": 51,
   "metadata": {},
   "outputs": [
    {
     "data": {
      "text/plain": [
       "'Monday'"
      ]
     },
     "execution_count": 51,
     "metadata": {},
     "output_type": "execute_result"
    }
   ],
   "source": [
    "temp.strftime('%A')"
   ]
  },
  {
   "cell_type": "code",
   "execution_count": 52,
   "metadata": {},
   "outputs": [],
   "source": [
    "df_june_sample['days_of_week'] = df_june_sample['dateTime'].map(lambda d:d.strftime('%A') )\n"
   ]
  },
  {
   "cell_type": "code",
   "execution_count": 53,
   "metadata": {},
   "outputs": [
    {
     "data": {
      "text/html": [
       "<div>\n",
       "<style scoped>\n",
       "    .dataframe tbody tr th:only-of-type {\n",
       "        vertical-align: middle;\n",
       "    }\n",
       "\n",
       "    .dataframe tbody tr th {\n",
       "        vertical-align: top;\n",
       "    }\n",
       "\n",
       "    .dataframe thead th {\n",
       "        text-align: right;\n",
       "    }\n",
       "</style>\n",
       "<table border=\"1\" class=\"dataframe\">\n",
       "  <thead>\n",
       "    <tr style=\"text-align: right;\">\n",
       "      <th></th>\n",
       "      <th>Date/Time</th>\n",
       "      <th>Lat</th>\n",
       "      <th>Lon</th>\n",
       "      <th>Base</th>\n",
       "      <th>dateTime</th>\n",
       "      <th>labels1</th>\n",
       "      <th>labels2</th>\n",
       "      <th>days_of_week</th>\n",
       "    </tr>\n",
       "  </thead>\n",
       "  <tbody>\n",
       "    <tr>\n",
       "      <th>98244</th>\n",
       "      <td>6/9/2014 5:37:00</td>\n",
       "      <td>40.7809</td>\n",
       "      <td>-73.9829</td>\n",
       "      <td>B02598</td>\n",
       "      <td>2014-06-09 05:37:00</td>\n",
       "      <td>0</td>\n",
       "      <td>0</td>\n",
       "      <td>Monday</td>\n",
       "    </tr>\n",
       "    <tr>\n",
       "      <th>212052</th>\n",
       "      <td>6/22/2014 15:54:00</td>\n",
       "      <td>40.7269</td>\n",
       "      <td>-73.9859</td>\n",
       "      <td>B02598</td>\n",
       "      <td>2014-06-22 15:54:00</td>\n",
       "      <td>2</td>\n",
       "      <td>0</td>\n",
       "      <td>Sunday</td>\n",
       "    </tr>\n",
       "    <tr>\n",
       "      <th>657796</th>\n",
       "      <td>6/11/2014 5:45:00</td>\n",
       "      <td>40.7382</td>\n",
       "      <td>-74.0084</td>\n",
       "      <td>B02764</td>\n",
       "      <td>2014-06-11 05:45:00</td>\n",
       "      <td>0</td>\n",
       "      <td>0</td>\n",
       "      <td>Wednesday</td>\n",
       "    </tr>\n",
       "    <tr>\n",
       "      <th>405461</th>\n",
       "      <td>6/23/2014 8:07:00</td>\n",
       "      <td>40.6339</td>\n",
       "      <td>-73.9671</td>\n",
       "      <td>B02617</td>\n",
       "      <td>2014-06-23 08:07:00</td>\n",
       "      <td>2</td>\n",
       "      <td>0</td>\n",
       "      <td>Monday</td>\n",
       "    </tr>\n",
       "    <tr>\n",
       "      <th>589352</th>\n",
       "      <td>6/20/2014 5:18:00</td>\n",
       "      <td>40.7193</td>\n",
       "      <td>-73.9601</td>\n",
       "      <td>B02682</td>\n",
       "      <td>2014-06-20 05:18:00</td>\n",
       "      <td>2</td>\n",
       "      <td>0</td>\n",
       "      <td>Friday</td>\n",
       "    </tr>\n",
       "    <tr>\n",
       "      <th>...</th>\n",
       "      <td>...</td>\n",
       "      <td>...</td>\n",
       "      <td>...</td>\n",
       "      <td>...</td>\n",
       "      <td>...</td>\n",
       "      <td>...</td>\n",
       "      <td>...</td>\n",
       "      <td>...</td>\n",
       "    </tr>\n",
       "    <tr>\n",
       "      <th>500087</th>\n",
       "      <td>6/6/2014 22:29:00</td>\n",
       "      <td>40.7172</td>\n",
       "      <td>-73.9552</td>\n",
       "      <td>B02682</td>\n",
       "      <td>2014-06-06 22:29:00</td>\n",
       "      <td>2</td>\n",
       "      <td>0</td>\n",
       "      <td>Friday</td>\n",
       "    </tr>\n",
       "    <tr>\n",
       "      <th>551144</th>\n",
       "      <td>6/13/2014 20:55:00</td>\n",
       "      <td>40.7682</td>\n",
       "      <td>-73.8624</td>\n",
       "      <td>B02682</td>\n",
       "      <td>2014-06-13 20:55:00</td>\n",
       "      <td>4</td>\n",
       "      <td>0</td>\n",
       "      <td>Friday</td>\n",
       "    </tr>\n",
       "    <tr>\n",
       "      <th>151377</th>\n",
       "      <td>6/14/2014 18:31:00</td>\n",
       "      <td>40.6209</td>\n",
       "      <td>-74.0222</td>\n",
       "      <td>B02598</td>\n",
       "      <td>2014-06-14 18:31:00</td>\n",
       "      <td>2</td>\n",
       "      <td>0</td>\n",
       "      <td>Saturday</td>\n",
       "    </tr>\n",
       "    <tr>\n",
       "      <th>20615</th>\n",
       "      <td>6/19/2014 4:01:00</td>\n",
       "      <td>40.7199</td>\n",
       "      <td>-73.9951</td>\n",
       "      <td>B02512</td>\n",
       "      <td>2014-06-19 04:01:00</td>\n",
       "      <td>2</td>\n",
       "      <td>0</td>\n",
       "      <td>Thursday</td>\n",
       "    </tr>\n",
       "    <tr>\n",
       "      <th>657997</th>\n",
       "      <td>6/11/2014 17:33:00</td>\n",
       "      <td>40.7165</td>\n",
       "      <td>-74.0164</td>\n",
       "      <td>B02764</td>\n",
       "      <td>2014-06-11 17:33:00</td>\n",
       "      <td>2</td>\n",
       "      <td>0</td>\n",
       "      <td>Wednesday</td>\n",
       "    </tr>\n",
       "  </tbody>\n",
       "</table>\n",
       "<p>10000 rows × 8 columns</p>\n",
       "</div>"
      ],
      "text/plain": [
       "                 Date/Time      Lat      Lon    Base            dateTime  \\\n",
       "98244     6/9/2014 5:37:00  40.7809 -73.9829  B02598 2014-06-09 05:37:00   \n",
       "212052  6/22/2014 15:54:00  40.7269 -73.9859  B02598 2014-06-22 15:54:00   \n",
       "657796   6/11/2014 5:45:00  40.7382 -74.0084  B02764 2014-06-11 05:45:00   \n",
       "405461   6/23/2014 8:07:00  40.6339 -73.9671  B02617 2014-06-23 08:07:00   \n",
       "589352   6/20/2014 5:18:00  40.7193 -73.9601  B02682 2014-06-20 05:18:00   \n",
       "...                    ...      ...      ...     ...                 ...   \n",
       "500087   6/6/2014 22:29:00  40.7172 -73.9552  B02682 2014-06-06 22:29:00   \n",
       "551144  6/13/2014 20:55:00  40.7682 -73.8624  B02682 2014-06-13 20:55:00   \n",
       "151377  6/14/2014 18:31:00  40.6209 -74.0222  B02598 2014-06-14 18:31:00   \n",
       "20615    6/19/2014 4:01:00  40.7199 -73.9951  B02512 2014-06-19 04:01:00   \n",
       "657997  6/11/2014 17:33:00  40.7165 -74.0164  B02764 2014-06-11 17:33:00   \n",
       "\n",
       "        labels1  labels2 days_of_week  \n",
       "98244         0        0       Monday  \n",
       "212052        2        0       Sunday  \n",
       "657796        0        0    Wednesday  \n",
       "405461        2        0       Monday  \n",
       "589352        2        0       Friday  \n",
       "...         ...      ...          ...  \n",
       "500087        2        0       Friday  \n",
       "551144        4        0       Friday  \n",
       "151377        2        0     Saturday  \n",
       "20615         2        0     Thursday  \n",
       "657997        2        0    Wednesday  \n",
       "\n",
       "[10000 rows x 8 columns]"
      ]
     },
     "execution_count": 53,
     "metadata": {},
     "output_type": "execute_result"
    }
   ],
   "source": [
    "df_june_sample"
   ]
  },
  {
   "cell_type": "code",
   "execution_count": 54,
   "metadata": {
    "scrolled": true
   },
   "outputs": [],
   "source": [
    "Tableau1 = df_june_sample.groupby('labels1')['days_of_week'].value_counts()\n"
   ]
  },
  {
   "cell_type": "code",
   "execution_count": 55,
   "metadata": {},
   "outputs": [],
   "source": [
    "Tableau2 = df_june_sample.groupby('labels2')['days_of_week'].value_counts()"
   ]
  },
  {
   "cell_type": "code",
   "execution_count": 56,
   "metadata": {},
   "outputs": [
    {
     "data": {
      "text/html": [
       "<div>\n",
       "<style scoped>\n",
       "    .dataframe tbody tr th:only-of-type {\n",
       "        vertical-align: middle;\n",
       "    }\n",
       "\n",
       "    .dataframe tbody tr th {\n",
       "        vertical-align: top;\n",
       "    }\n",
       "\n",
       "    .dataframe thead th {\n",
       "        text-align: right;\n",
       "    }\n",
       "</style>\n",
       "<table border=\"1\" class=\"dataframe\">\n",
       "  <thead>\n",
       "    <tr style=\"text-align: right;\">\n",
       "      <th></th>\n",
       "      <th></th>\n",
       "      <th>days_of_week</th>\n",
       "    </tr>\n",
       "    <tr>\n",
       "      <th>labels1</th>\n",
       "      <th>days_of_week</th>\n",
       "      <th></th>\n",
       "    </tr>\n",
       "  </thead>\n",
       "  <tbody>\n",
       "    <tr>\n",
       "      <th rowspan=\"7\" valign=\"top\">0</th>\n",
       "      <th>Thursday</th>\n",
       "      <td>1034</td>\n",
       "    </tr>\n",
       "    <tr>\n",
       "      <th>Wednesday</th>\n",
       "      <td>924</td>\n",
       "    </tr>\n",
       "    <tr>\n",
       "      <th>Friday</th>\n",
       "      <td>864</td>\n",
       "    </tr>\n",
       "    <tr>\n",
       "      <th>Tuesday</th>\n",
       "      <td>792</td>\n",
       "    </tr>\n",
       "    <tr>\n",
       "      <th>Monday</th>\n",
       "      <td>738</td>\n",
       "    </tr>\n",
       "    <tr>\n",
       "      <th>Saturday</th>\n",
       "      <td>524</td>\n",
       "    </tr>\n",
       "    <tr>\n",
       "      <th>Sunday</th>\n",
       "      <td>517</td>\n",
       "    </tr>\n",
       "    <tr>\n",
       "      <th rowspan=\"7\" valign=\"top\">1</th>\n",
       "      <th>Sunday</th>\n",
       "      <td>70</td>\n",
       "    </tr>\n",
       "    <tr>\n",
       "      <th>Monday</th>\n",
       "      <td>55</td>\n",
       "    </tr>\n",
       "    <tr>\n",
       "      <th>Thursday</th>\n",
       "      <td>42</td>\n",
       "    </tr>\n",
       "    <tr>\n",
       "      <th>Saturday</th>\n",
       "      <td>40</td>\n",
       "    </tr>\n",
       "    <tr>\n",
       "      <th>Wednesday</th>\n",
       "      <td>40</td>\n",
       "    </tr>\n",
       "    <tr>\n",
       "      <th>Friday</th>\n",
       "      <td>37</td>\n",
       "    </tr>\n",
       "    <tr>\n",
       "      <th>Tuesday</th>\n",
       "      <td>29</td>\n",
       "    </tr>\n",
       "    <tr>\n",
       "      <th rowspan=\"7\" valign=\"top\">2</th>\n",
       "      <th>Friday</th>\n",
       "      <td>585</td>\n",
       "    </tr>\n",
       "    <tr>\n",
       "      <th>Thursday</th>\n",
       "      <td>577</td>\n",
       "    </tr>\n",
       "    <tr>\n",
       "      <th>Saturday</th>\n",
       "      <td>545</td>\n",
       "    </tr>\n",
       "    <tr>\n",
       "      <th>Sunday</th>\n",
       "      <td>516</td>\n",
       "    </tr>\n",
       "    <tr>\n",
       "      <th>Wednesday</th>\n",
       "      <td>476</td>\n",
       "    </tr>\n",
       "    <tr>\n",
       "      <th>Tuesday</th>\n",
       "      <td>474</td>\n",
       "    </tr>\n",
       "    <tr>\n",
       "      <th>Monday</th>\n",
       "      <td>451</td>\n",
       "    </tr>\n",
       "    <tr>\n",
       "      <th rowspan=\"7\" valign=\"top\">3</th>\n",
       "      <th>Monday</th>\n",
       "      <td>22</td>\n",
       "    </tr>\n",
       "    <tr>\n",
       "      <th>Wednesday</th>\n",
       "      <td>20</td>\n",
       "    </tr>\n",
       "    <tr>\n",
       "      <th>Tuesday</th>\n",
       "      <td>18</td>\n",
       "    </tr>\n",
       "    <tr>\n",
       "      <th>Thursday</th>\n",
       "      <td>17</td>\n",
       "    </tr>\n",
       "    <tr>\n",
       "      <th>Friday</th>\n",
       "      <td>13</td>\n",
       "    </tr>\n",
       "    <tr>\n",
       "      <th>Saturday</th>\n",
       "      <td>9</td>\n",
       "    </tr>\n",
       "    <tr>\n",
       "      <th>Sunday</th>\n",
       "      <td>8</td>\n",
       "    </tr>\n",
       "    <tr>\n",
       "      <th rowspan=\"7\" valign=\"top\">4</th>\n",
       "      <th>Sunday</th>\n",
       "      <td>99</td>\n",
       "    </tr>\n",
       "    <tr>\n",
       "      <th>Monday</th>\n",
       "      <td>97</td>\n",
       "    </tr>\n",
       "    <tr>\n",
       "      <th>Friday</th>\n",
       "      <td>80</td>\n",
       "    </tr>\n",
       "    <tr>\n",
       "      <th>Thursday</th>\n",
       "      <td>78</td>\n",
       "    </tr>\n",
       "    <tr>\n",
       "      <th>Saturday</th>\n",
       "      <td>77</td>\n",
       "    </tr>\n",
       "    <tr>\n",
       "      <th>Wednesday</th>\n",
       "      <td>74</td>\n",
       "    </tr>\n",
       "    <tr>\n",
       "      <th>Tuesday</th>\n",
       "      <td>58</td>\n",
       "    </tr>\n",
       "  </tbody>\n",
       "</table>\n",
       "</div>"
      ],
      "text/plain": [
       "                      days_of_week\n",
       "labels1 days_of_week              \n",
       "0       Thursday              1034\n",
       "        Wednesday              924\n",
       "        Friday                 864\n",
       "        Tuesday                792\n",
       "        Monday                 738\n",
       "        Saturday               524\n",
       "        Sunday                 517\n",
       "1       Sunday                  70\n",
       "        Monday                  55\n",
       "        Thursday                42\n",
       "        Saturday                40\n",
       "        Wednesday               40\n",
       "        Friday                  37\n",
       "        Tuesday                 29\n",
       "2       Friday                 585\n",
       "        Thursday               577\n",
       "        Saturday               545\n",
       "        Sunday                 516\n",
       "        Wednesday              476\n",
       "        Tuesday                474\n",
       "        Monday                 451\n",
       "3       Monday                  22\n",
       "        Wednesday               20\n",
       "        Tuesday                 18\n",
       "        Thursday                17\n",
       "        Friday                  13\n",
       "        Saturday                 9\n",
       "        Sunday                   8\n",
       "4       Sunday                  99\n",
       "        Monday                  97\n",
       "        Friday                  80\n",
       "        Thursday                78\n",
       "        Saturday                77\n",
       "        Wednesday               74\n",
       "        Tuesday                 58"
      ]
     },
     "execution_count": 56,
     "metadata": {},
     "output_type": "execute_result"
    }
   ],
   "source": [
    "Tableau1\n",
    "Tableau11 = pd.DataFrame(Tableau1)\n",
    "Tableau11"
   ]
  },
  {
   "cell_type": "code",
   "execution_count": null,
   "metadata": {},
   "outputs": [],
   "source": []
  },
  {
   "cell_type": "code",
   "execution_count": null,
   "metadata": {},
   "outputs": [],
   "source": []
  },
  {
   "cell_type": "code",
   "execution_count": null,
   "metadata": {},
   "outputs": [],
   "source": []
  },
  {
   "cell_type": "code",
   "execution_count": null,
   "metadata": {},
   "outputs": [],
   "source": []
  },
  {
   "cell_type": "code",
   "execution_count": null,
   "metadata": {},
   "outputs": [],
   "source": []
  },
  {
   "cell_type": "code",
   "execution_count": null,
   "metadata": {},
   "outputs": [],
   "source": []
  }
 ],
 "metadata": {
  "kernelspec": {
   "display_name": "Python 3",
   "language": "python",
   "name": "python3"
  },
  "language_info": {
   "codemirror_mode": {
    "name": "ipython",
    "version": 3
   },
   "file_extension": ".py",
   "mimetype": "text/x-python",
   "name": "python",
   "nbconvert_exporter": "python",
   "pygments_lexer": "ipython3",
   "version": "3.8.8"
  }
 },
 "nbformat": 4,
 "nbformat_minor": 2
}
